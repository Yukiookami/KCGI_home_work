{
 "cells": [
  {
   "cell_type": "code",
   "execution_count": 1,
   "metadata": {},
   "outputs": [
    {
     "name": "stdout",
     "output_type": "stream",
     "text": [
      "京都　太郎 生徒\n",
      "私の名前は京都　太郎です\n"
     ]
    }
   ],
   "source": [
    "class Person():               \n",
    "    def __init__(self, name_arg, position_arg='生徒'): \n",
    "        self.name = name_arg\n",
    "        self.position =  position_arg\n",
    "    def say_name(self):\n",
    "        print(f\"私の名前は{self.name}です\")\n",
    "    \n",
    "\n",
    "student = Person('京都　太郎')       \n",
    "print(student.name, student.position)\n",
    "student.say_name() \n"
   ]
  },
  {
   "cell_type": "code",
   "execution_count": 9,
   "metadata": {},
   "outputs": [
    {
     "name": "stdout",
     "output_type": "stream",
     "text": [
      "ヒントを見て，ボクの数を当ててね。1から50の間だよ。\n",
      "いくつでしょう？25\n",
      "1 回目。入力値は 25>>それより大きいよ。\n",
      "いくつでしょう？37\n",
      "2 回目。入力値は 37>>それより大きいよ。\n",
      "いくつでしょう？43\n",
      "3 回目。入力値は 43>>当たり！\n"
     ]
    }
   ],
   "source": [
    "class GuessNumber():\n",
    "    \"数当てゲーム \"\n",
    "    def __init__(self,num): \n",
    "        import random\n",
    "        self.target = random.randint(1, num)\n",
    "        self.count = 0 \n",
    "    def high_or_low(self, guess): \n",
    "        result=0\n",
    "        if guess < self.target :\n",
    "            result=-1\n",
    "        elif guess > self.target :\n",
    "            result=1\n",
    "        self.count += 1\n",
    "        return (result, self.count)\n",
    "\n",
    "init_num=50\n",
    "mygame=GuessNumber(init_num) #数当てゲームのオブジェクト作成\n",
    "print(f\"ヒントを見て，ボクの数を当ててね。1から{init_num}の間だよ。\")\n",
    "while True:\n",
    "    input_num = int(input(\"いくつでしょう？\"))\n",
    "    result, count = mygame.high_or_low(input_num)    \n",
    "    print(count,\"回目。入力値は\", input_num,end='>>')\n",
    "    if result < 0 :\n",
    "        print(\"それより大きいよ。\")\n",
    "    elif result > 0 :\n",
    "        print(\"それより小さいよ。\")\n",
    "    else:\n",
    "        print(\"当たり！\")\n",
    "        break;"
   ]
  },
  {
   "cell_type": "markdown",
   "metadata": {},
   "source": [
    "継承"
   ]
  },
  {
   "cell_type": "code",
   "execution_count": 2,
   "metadata": {},
   "outputs": [],
   "source": [
    "# 親クラスの定義\n",
    "class Parent:               \n",
    "    def call(self): \n",
    "        print('親クラスのcall,親クラスのcall')\n",
    "        \n",
    "# Parentの子クラスの定義 \n",
    "class Children(Parent):\n",
    "        "
   ]
  },
  {
   "cell_type": "code",
   "execution_count": 9,
   "metadata": {},
   "outputs": [
    {
     "name": "stdout",
     "output_type": "stream",
     "text": [
      "はい！\n",
      "安さん、こんにちは！\n"
     ]
    }
   ],
   "source": [
    "# 親クラスの定義\n",
    "class Greet():\n",
    "    def hello(self):\n",
    "        print(\"はい！\")\n",
    "\n",
    "# 子クラスの定義\n",
    "class Greet2(Greet):\n",
    "    def hello(self, name=None):\n",
    "        if name :\n",
    "            print(name+\"さん、こんにちは！\")\n",
    "        else :\n",
    "            super().hello()\n"
   ]
  },
  {
   "cell_type": "markdown",
   "metadata": {},
   "source": [
    "カプセル化"
   ]
  },
  {
   "cell_type": "code",
   "execution_count": null,
   "metadata": {},
   "outputs": [],
   "source": [
    "class Person():               \n",
    "    def __init__(self, name_arg, position_arg='生徒'): \n",
    "        self.name = name_arg\n",
    "        self.position =  position_arg\n",
    "\n",
    "    \n",
    "\n",
    "student = Person('京都　太郎')       \n",
    "print(student.position)\n",
    "#インスタンス変数を書き換える\n"
   ]
  },
  {
   "cell_type": "markdown",
   "metadata": {},
   "source": [
    "以下のインスタンス変数を隠蔽する"
   ]
  },
  {
   "cell_type": "code",
   "execution_count": 5,
   "metadata": {},
   "outputs": [
    {
     "name": "stdout",
     "output_type": "stream",
     "text": [
      "私の名前は京都　太郎です\n",
      "生徒\n"
     ]
    }
   ],
   "source": [
    "# Personクラスの定義\n",
    "class Person():               \n",
    "    def __init__(self, name_arg, position_arg='生徒'): \n",
    "        self.name = name_arg\n",
    "        self.position =  position_arg\n",
    "    def who(self):\n",
    "        print(f\"私の名前は{self.name}です\")\n",
    "\n",
    "student = Person('京都　太郎')   \n",
    "student.who()\n",
    "print(student.position)"
   ]
  },
  {
   "cell_type": "markdown",
   "metadata": {},
   "source": [
    "ポリモーフィズム（ダックタイピング）"
   ]
  },
  {
   "cell_type": "code",
   "execution_count": 7,
   "metadata": {},
   "outputs": [
    {
     "name": "stdout",
     "output_type": "stream",
     "text": [
      "duck1\n",
      "ガーガー\n",
      "アヒルがお尻をフリフリ歩きます。\n",
      "elephant1\n",
      "パオーン\n",
      "象がゆったり歩きます。\n"
     ]
    }
   ],
   "source": [
    "class Animal():\n",
    "    def __init__(self, name):\n",
    "        self.name = name\n",
    "\n",
    "class Duck(Animal):\n",
    "    def voice(self):\n",
    "        print(\"ガーガー\")\n",
    "    def walking(self):\n",
    "        print(\"アヒルがお尻をフリフリ歩きます。\")\n",
    "\n",
    "class Elephant(Animal):\n",
    "    def voice(self):\n",
    "        print(\"パオーン\")\n",
    "    def walking(self):\n",
    "        print(\"象がゆったり歩きます。\")\n",
    "\n",
    "duck = Duck('duck1') \n",
    "print(duck.name)\n",
    "duck.voice() \n",
    "duck.walking()\n",
    "elephant = Elephant('elephant1') \n",
    "print(elephant.name)\n",
    "elephant.voice() \n",
    "elephant.walking()"
   ]
  }
 ],
 "metadata": {
  "kernelspec": {
   "display_name": "Python 3",
   "language": "python",
   "name": "python3"
  },
  "language_info": {
   "codemirror_mode": {
    "name": "ipython",
    "version": 3
   },
   "file_extension": ".py",
   "mimetype": "text/x-python",
   "name": "python",
   "nbconvert_exporter": "python",
   "pygments_lexer": "ipython3",
   "version": "3.8.8"
  }
 },
 "nbformat": 4,
 "nbformat_minor": 4
}
