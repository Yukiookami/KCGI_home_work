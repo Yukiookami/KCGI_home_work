{
 "cells": [
  {
   "cell_type": "markdown",
   "metadata": {},
   "source": [
    "第8回演習課題　１\n",
    "\n",
    "a. リスト [`金`, `李`, `高`, `安`]を表示するkorean_name1関数を定義し，korean_name1()関数を呼び出してください\n",
    "\n",
    "b. リスト [`金`, `李`, `高`, `安`]を返すkorean_name2関数を定義して，korean_name2()関数を呼び出し，戻り値を表示してください"
   ]
  },
  {
   "cell_type": "code",
   "execution_count": 1,
   "metadata": {},
   "outputs": [
    {
     "name": "stdout",
     "output_type": "stream",
     "text": [
      "8-1a\n",
      "['金', '李', '高', '安']\n",
      "8-1b\n",
      "['金', '李', '高', '安']\n"
     ]
    }
   ],
   "source": [
    "print(\"8-1a\")\n",
    "def korean_name1():\n",
    "    print(['金', '李', '高', '安'])\n",
    "    \n",
    "korean_name1()\n",
    "\n",
    "print(\"8-1b\")\n",
    "def korean_name2():\n",
    "    return ['金', '李', '高', '安']\n",
    "\n",
    "result=korean_name2()\n",
    "print(result)"
   ]
  },
  {
   "attachments": {},
   "cell_type": "markdown",
   "metadata": {},
   "source": [
    "第8回演習課題　２\n",
    "\n",
    "a. *argsを使って，複数の可変の名前を引数として受け取れるlist_name ()関数を定義してください。関数内では，受け取った引数（複数の可変の名前）をリストに変換して、コンソールに表示してください\n",
    "\n",
    "b. 次に実引数”金”, ”李”, ”高”, ”安”で list_name()関数を呼び出し，実引数の名前がlist形式でコンソールに表示されることを確認してください(演習課題１aと同じ結果なら正解)\n",
    "\n",
    "c. 同様に，５つ以上の名前を引数としてlist_name()関数を呼び出してください"
   ]
  },
  {
   "cell_type": "code",
   "execution_count": 3,
   "metadata": {},
   "outputs": [
    {
     "name": "stdout",
     "output_type": "stream",
     "text": [
      "7-2b\n",
      "['金', '李', '高', '安']\n",
      "7-2c\n",
      "['邱', '金', '陳', '王', '汪']\n"
     ]
    }
   ],
   "source": [
    "#a\n",
    "def list_name(*args):\n",
    "    print(list(args))\n",
    "\n",
    "print(\"7-2b\")\n",
    "list_name('金', '李', '高', '安')\n",
    "\n",
    "print(\"7-2c\")\n",
    "list_name(\"邱\", \"金\", \"陳\", \"王\", \"汪\")"
   ]
  },
  {
   "cell_type": "markdown",
   "metadata": {},
   "source": [
    "第8回演習課題　３\n",
    "\n",
    "a. 時間を引数として，日数と時間に変換するhow_many_days 関数を定義してください。戻り値は日と時間のタプルにしてください。また， how_many_days 関数にはdocstringで仕様を書いてください\n",
    "\n",
    "b. how_many_days(321)を呼び出して，戻り値から、日と時間を表示してください\n",
    "\n",
    "c.help()でdocstringで書いた仕様を表示・確認してください\n"
   ]
  },
  {
   "cell_type": "code",
   "execution_count": 3,
   "metadata": {},
   "outputs": [
    {
     "name": "stdout",
     "output_type": "stream",
     "text": [
      "8-3b\n",
      "13 日 9 時間\n",
      "8-3c\n",
      "Help on function how_many_days in module __main__:\n",
      "\n",
      "how_many_days(hours)\n",
      "    時間を引数として、日と時間に変換する\n",
      "    戻り値は日と時間のタプル\n",
      "\n"
     ]
    }
   ],
   "source": [
    "#a\n",
    "def how_many_days(hours):\n",
    "    '''時間を引数として、日と時間に変換する\n",
    "       戻り値は日と時間のタプル'''\n",
    "    day = hours // 24\n",
    "    hour = hours % 24\n",
    "    return (day, hour)\n",
    "\n",
    "print(\"8-3b\")\n",
    "time = how_many_days(321)\n",
    "print(time[0] , '日' , time[1], '時間')\n",
    "\n",
    "print(\"8-3c\")\n",
    "help(how_many_days)"
   ]
  },
  {
   "cell_type": "code",
   "execution_count": 4,
   "metadata": {},
   "outputs": [
    {
     "name": "stdout",
     "output_type": "stream",
     "text": [
      "13 日 9 時間\n"
     ]
    }
   ],
   "source": [
    "# divmod関数を使うと1行で書ける\n",
    "def how_many_days(hours):\n",
    "    return divmod(hours, 24)\n",
    "    \n",
    "time = how_many_days(321)\n",
    "print(time[0] , '日' , time[1], '時間')"
   ]
  },
  {
   "cell_type": "markdown",
   "metadata": {},
   "source": [
    "第8回演習課題　4\n",
    "\n",
    "a. 演習課題 ３ のhow_many_days 関数の内容をラムダ式（無名関数）で定義してください\n",
    "\n",
    "b. このラムダ式を321時間を引数として呼び出してください。課題３と同じ結果になることを確認してください\n"
   ]
  },
  {
   "cell_type": "code",
   "execution_count": 11,
   "metadata": {},
   "outputs": [
    {
     "name": "stdout",
     "output_type": "stream",
     "text": [
      "8-4b\n",
      "13 日 9 時間\n"
     ]
    }
   ],
   "source": [
    "#a\n",
    "hours_days = lambda hours : (hours // 24, hours % 24)\n",
    "\n",
    "print(\"8-4b\")\n",
    "time = hours_days(321)\n",
    "print(time[0] , '日' , time[1], '時間')"
   ]
  },
  {
   "cell_type": "code",
   "execution_count": 10,
   "metadata": {},
   "outputs": [
    {
     "name": "stdout",
     "output_type": "stream",
     "text": [
      "13 日 9 時間\n"
     ]
    }
   ],
   "source": [
    "#a　divmod関数を使うと\n",
    "days = lambda hours :  divmod(hours, 24)\n",
    "\n",
    "print(\"8-4b\")\n",
    "time = hours_days(321)\n",
    "print(time[0] , '日' , time[1], '時間')"
   ]
  }
 ],
 "metadata": {
  "kernelspec": {
   "display_name": "Python 3",
   "language": "python",
   "name": "python3"
  },
  "language_info": {
   "codemirror_mode": {
    "name": "ipython",
    "version": 3
   },
   "file_extension": ".py",
   "mimetype": "text/x-python",
   "name": "python",
   "nbconvert_exporter": "python",
   "pygments_lexer": "ipython3",
   "version": "3.8.5"
  }
 },
 "nbformat": 4,
 "nbformat_minor": 4
}
