{
 "cells": [
  {
   "cell_type": "markdown",
   "metadata": {},
   "source": [
    "## コンピュータ プログラム概論　小テスト第１回\n",
    "\n",
    "氏名と学籍番号を下のセルにpythonのコメントとして書いてください"
   ]
  },
  {
   "cell_type": "code",
   "execution_count": null,
   "metadata": {},
   "outputs": [],
   "source": [
    "# 鄒欣雨　M21W0292"
   ]
  },
  {
   "cell_type": "markdown",
   "metadata": {},
   "source": [
    "## 小テスト　１-１\n",
    "\n",
    "aからeをセルにコーデイングし，正しく動作することを確認しなさい\n",
    "\n",
    "a. コンソールから文字列を入力する。プロンプトは'名前を入力せよ>>'とする\n",
    "\n",
    "b. 次に，コンソールから文字列を入力する。プロンプトは'身長をセンチメートルで入力せよ>>'とする\n",
    "\n",
    "c. 次に，コンソールから文字列を入力する。プロンプトは'体重をキログラムで入力せよ>>'とする\n",
    "\n",
    "d. 入力された体重と身長からBMIを計算し，入力された名前とともに表示しなさい。なお、BMI値は小数点1桁に丸めること\n",
    "\n",
    "e. 入力（体重と身長）に誤りがあれば，エラーメッセージ\"入力に誤りがあります\"を例外処理で表示する"
   ]
  },
  {
   "cell_type": "code",
   "execution_count": null,
   "metadata": {},
   "outputs": [],
   "source": [
    "# 下記に実行コードを記述してください\n",
    "\n",
    "while True:\n",
    "    try:\n",
    "        n = input('名前を入力せよ>>')\n",
    "        h = int(input('身長をセンチメートルで入力せよ>>'))\n",
    "        w = int(input('体重をキログラムで入力せよ>>'))\n",
    "        bmi = w / h**2 * 10000\n",
    "        bmi = round(bmi, 1)\n",
    "        print(n, \"の肥満度は\",bmi,\"です\")\n",
    "        break\n",
    "    except:\n",
    "        print(\"入力に誤りがあります\")\n",
    "\n",
    "\n",
    "\n"
   ]
  },
  {
   "cell_type": "markdown",
   "metadata": {},
   "source": [
    "## 小テスト　１-２\n",
    "\n",
    "1から10までの整数、およびその数が偶数か奇数かを表示するプログラムを以下に作成した。\n",
    "\n",
    "しかし、以下のコードにはエラーがいくつかあります。正しく動作するように、修正してください"
   ]
  },
  {
   "cell_type": "code",
   "execution_count": 15,
   "metadata": {},
   "outputs": [
    {
     "name": "stdout",
     "output_type": "stream",
     "text": [
      "1:奇数\n",
      "2:偶数\n",
      "3:奇数\n",
      "4:偶数\n",
      "5:奇数\n",
      "6:偶数\n",
      "7:奇数\n",
      "8:偶数\n",
      "9:奇数\n",
      "10:偶数\n",
      "処理終了\n"
     ]
    }
   ],
   "source": [
    "# 下記の実行コードを修正してください\n",
    "\n",
    "number = 0\n",
    "while number < 10:\n",
    "    number += 1\n",
    "    print(number, end=\"\")\n",
    "    if number % 2 == 0: \n",
    "        print(\":偶数\")\n",
    "    else:\n",
    "        print(\":奇数\")\n",
    "        \n",
    "print(\"処理終了\")"
   ]
  },
  {
   "cell_type": "markdown",
   "metadata": {},
   "source": [
    "## 小テスト　１-３\n",
    "\n",
    "1から30までの整数を要素に持つlistをfor文を使って作成し，正しく動作することを確認しなさい。\n",
    "\n",
    "但し，3の倍数の場合は‘3の倍数’を，5の倍数の場合は‘5の倍数’を，15の倍数の場合は‘15の倍数’の文字列を，整数の代わりに要素にすること"
   ]
  },
  {
   "cell_type": "code",
   "execution_count": 20,
   "metadata": {},
   "outputs": [
    {
     "name": "stdout",
     "output_type": "stream",
     "text": [
      "[1, 2, '3の倍数', 4, '5の倍数', '3の倍数', 7, 8, '3の倍数', '5の倍数', 11, '3の倍数', 13, 14, '15の倍数', 16, 17, '3の倍数', 19, '5の倍数', '3の倍数', 22, 23, '3の倍数', '5の倍数', 26, '3の倍数', 28, 29, '15の倍数']\n"
     ]
    }
   ],
   "source": [
    "# 下記に実行コードを記述してください\n",
    "listArr = []\n",
    "for i in range(1, 31):\n",
    "    u = i\n",
    "    if i % 15 == 0:\n",
    "        u = '15の倍数'\n",
    "    elif i % 5 == 0:\n",
    "        u = '5の倍数'\n",
    "    elif i % 3 == 0:\n",
    "        u = '3の倍数'\n",
    "    listArr.append(u)\n",
    "print(listArr)\n",
    "    \n",
    "\n",
    "\n"
   ]
  },
  {
   "cell_type": "code",
   "execution_count": null,
   "metadata": {},
   "outputs": [],
   "source": []
  },
  {
   "cell_type": "code",
   "execution_count": null,
   "metadata": {},
   "outputs": [],
   "source": []
  }
 ],
 "metadata": {
  "kernelspec": {
   "display_name": "Python 3",
   "language": "python",
   "name": "python3"
  },
  "language_info": {
   "codemirror_mode": {
    "name": "ipython",
    "version": 3
   },
   "file_extension": ".py",
   "mimetype": "text/x-python",
   "name": "python",
   "nbconvert_exporter": "python",
   "pygments_lexer": "ipython3",
   "version": "3.8.8"
  }
 },
 "nbformat": 4,
 "nbformat_minor": 4
}
