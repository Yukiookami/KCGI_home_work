{
 "cells": [
  {
   "cell_type": "markdown",
   "id": "7666dae7",
   "metadata": {},
   "source": [
    "# M21W0292  課題１"
   ]
  },
  {
   "cell_type": "code",
   "execution_count": 1,
   "id": "19ffcd60",
   "metadata": {},
   "outputs": [],
   "source": [
    "words = 'KCGIPython'"
   ]
  },
  {
   "cell_type": "code",
   "execution_count": 2,
   "id": "efd892cd",
   "metadata": {},
   "outputs": [],
   "source": [
    "words3 = words * 3"
   ]
  },
  {
   "cell_type": "code",
   "execution_count": 3,
   "id": "36f79c45",
   "metadata": {},
   "outputs": [
    {
     "name": "stdout",
     "output_type": "stream",
     "text": [
      "10\n",
      "30\n",
      "K\n",
      "P\n",
      "n\n"
     ]
    }
   ],
   "source": [
    "print(len(words))\n",
    "print(len(words3))\n",
    "print(words3[0]) \n",
    "print(words3[14])\n",
    "print(words3[29])"
   ]
  },
  {
   "cell_type": "code",
   "execution_count": 4,
   "id": "bc62b4a9",
   "metadata": {},
   "outputs": [
    {
     "name": "stdout",
     "output_type": "stream",
     "text": [
      "エラー検出\n"
     ]
    }
   ],
   "source": [
    "try:\n",
    "    words3[len(words3)]\n",
    "except:\n",
    "    print(\"エラー検出\")"
   ]
  },
  {
   "cell_type": "markdown",
   "id": "ee67a5e8",
   "metadata": {},
   "source": [
    "# M21W0292 課題２"
   ]
  },
  {
   "cell_type": "code",
   "execution_count": 6,
   "id": "7eb21dba",
   "metadata": {},
   "outputs": [],
   "source": [
    "my_list = []"
   ]
  },
  {
   "cell_type": "code",
   "execution_count": 7,
   "id": "9020e09f",
   "metadata": {},
   "outputs": [
    {
     "name": "stdout",
     "output_type": "stream",
     "text": [
      "[4, 8, 6, 9, 7]\n",
      "5\n"
     ]
    }
   ],
   "source": [
    "my_list = [4, 8, 6, 9, 7]\n",
    "print(my_list)\n",
    "print(len(my_list))"
   ]
  },
  {
   "cell_type": "code",
   "execution_count": 8,
   "id": "ec3b7ede",
   "metadata": {},
   "outputs": [
    {
     "name": "stdout",
     "output_type": "stream",
     "text": [
      "[0, 4, 8, 6, 9, 7, 12]\n"
     ]
    }
   ],
   "source": [
    "my_list.append(12)\n",
    "my_list.insert(0, 0)\n",
    "print(my_list)"
   ]
  },
  {
   "cell_type": "code",
   "execution_count": 9,
   "id": "11edc77f",
   "metadata": {},
   "outputs": [
    {
     "name": "stdout",
     "output_type": "stream",
     "text": [
      "[0, 4, 8, 5, 6, 9, 7, 12]\n"
     ]
    }
   ],
   "source": [
    "my_list.insert(my_list.index(6), 5)\n",
    "print(my_list)"
   ]
  },
  {
   "cell_type": "code",
   "execution_count": 10,
   "id": "0cc13591",
   "metadata": {},
   "outputs": [
    {
     "name": "stdout",
     "output_type": "stream",
     "text": [
      "[0, 4, 8, 5, 6, 9, 7, 12, 3, 17, 15, 0]\n"
     ]
    }
   ],
   "source": [
    "my_list.extend([3, 17, 15, 0])\n",
    "print(my_list)"
   ]
  },
  {
   "cell_type": "code",
   "execution_count": 11,
   "id": "1f1d5bf4",
   "metadata": {},
   "outputs": [
    {
     "name": "stdout",
     "output_type": "stream",
     "text": [
      "[0, 0, 3, 4, 5, 6, 7, 8, 9, 12, 15, 17]\n",
      "[6, 7, 8]\n"
     ]
    }
   ],
   "source": [
    "my_list.sort()\n",
    "print(my_list)\n",
    "print(my_list[5:8])"
   ]
  },
  {
   "cell_type": "code",
   "execution_count": 12,
   "id": "647a614b",
   "metadata": {},
   "outputs": [
    {
     "name": "stdout",
     "output_type": "stream",
     "text": [
      "[0, 0, 3, 4, 5, 6, 7, 8, 12, 15, 17]\n"
     ]
    }
   ],
   "source": [
    "my_list.remove(9)\n",
    "print(my_list)"
   ]
  },
  {
   "cell_type": "code",
   "execution_count": 13,
   "id": "89eadee1",
   "metadata": {},
   "outputs": [
    {
     "name": "stdout",
     "output_type": "stream",
     "text": [
      "[0, 0, 3, 4, 5, 6, 7, 8, 12, 15]\n"
     ]
    }
   ],
   "source": [
    "my_list.pop()\n",
    "print(my_list)"
   ]
  },
  {
   "cell_type": "markdown",
   "id": "e61ca00f",
   "metadata": {},
   "source": [
    "# M21W0292 課題３"
   ]
  },
  {
   "cell_type": "code",
   "execution_count": 14,
   "id": "61398492",
   "metadata": {},
   "outputs": [
    {
     "name": "stdout",
     "output_type": "stream",
     "text": [
      "(4, 9, 6, 15)\n"
     ]
    }
   ],
   "source": [
    "my_tuple = (4, 9, 6, 15)\n",
    "print(my_tuple)"
   ]
  },
  {
   "cell_type": "code",
   "execution_count": 15,
   "id": "b38d9619",
   "metadata": {},
   "outputs": [
    {
     "name": "stdout",
     "output_type": "stream",
     "text": [
      "4\n"
     ]
    }
   ],
   "source": [
    "print(len(my_tuple))"
   ]
  },
  {
   "cell_type": "code",
   "execution_count": null,
   "id": "5980d130",
   "metadata": {},
   "outputs": [],
   "source": [
    "my_tuple = my_tuple + (11, 1)\n",
    "print(my_tuple)"
   ]
  },
  {
   "cell_type": "code",
   "execution_count": 16,
   "id": "2a5b74ce",
   "metadata": {},
   "outputs": [
    {
     "data": {
      "text/plain": [
       "4"
      ]
     },
     "execution_count": 16,
     "metadata": {},
     "output_type": "execute_result"
    }
   ],
   "source": [
    "my_tuple[0]"
   ]
  },
  {
   "cell_type": "code",
   "execution_count": 17,
   "id": "c5c10208",
   "metadata": {},
   "outputs": [
    {
     "name": "stdout",
     "output_type": "stream",
     "text": [
      "エラー発生\n"
     ]
    }
   ],
   "source": [
    "try: \n",
    "    my_tuple[0] = 100\n",
    "except:\n",
    "    print('エラー発生')"
   ]
  },
  {
   "cell_type": "markdown",
   "id": "4a59e35c",
   "metadata": {},
   "source": [
    "# M21W0292 課題４"
   ]
  },
  {
   "cell_type": "code",
   "execution_count": 18,
   "id": "0ece7c28",
   "metadata": {},
   "outputs": [
    {
     "name": "stdout",
     "output_type": "stream",
     "text": [
      "{'いち': 1, 'に': 2, 'さん': 3, 'よん': 4, 'ご': 5, 'ろく': 6, 'なな': 7, 'はち': 8, 'きゅう': 9, 'じゅう': 10}\n"
     ]
    }
   ],
   "source": [
    "my_dictionary = {\n",
    "    'いち': 1, \n",
    "    'に': 2, \n",
    "    'さん': 3,\n",
    "    'よん': 4,\n",
    "    'ご': 5,\n",
    "    'ろく': 6,\n",
    "    'なな': 7,\n",
    "    'はち': 8,\n",
    "    'きゅう': 9,\n",
    "    'じゅう': 10\n",
    "}\n",
    "\n",
    "print(my_dictionary)"
   ]
  },
  {
   "cell_type": "code",
   "execution_count": 19,
   "id": "2a73abf2",
   "metadata": {},
   "outputs": [
    {
     "data": {
      "text/plain": [
       "3"
      ]
     },
     "execution_count": 19,
     "metadata": {},
     "output_type": "execute_result"
    }
   ],
   "source": [
    "my_dictionary['さん']"
   ]
  },
  {
   "cell_type": "code",
   "execution_count": 20,
   "id": "47aed4e3",
   "metadata": {},
   "outputs": [
    {
     "name": "stdout",
     "output_type": "stream",
     "text": [
      "11\n",
      "True\n"
     ]
    }
   ],
   "source": [
    "my_dictionary['じゅういち'] = 11\n",
    "\n",
    "print(len(my_dictionary))\n",
    "print('じゅういち' in my_dictionary)"
   ]
  },
  {
   "cell_type": "code",
   "execution_count": 21,
   "id": "066b3da0",
   "metadata": {},
   "outputs": [
    {
     "name": "stdout",
     "output_type": "stream",
     "text": [
      "いち 1\n",
      "に 2\n",
      "さん 3\n",
      "よん 4\n",
      "ご 5\n",
      "ろく 6\n",
      "なな 7\n",
      "はち 8\n",
      "きゅう 9\n",
      "じゅう 10\n",
      "じゅういち 11\n"
     ]
    }
   ],
   "source": [
    "for key,values in  my_dictionary.items():\n",
    "    print(key, values)"
   ]
  },
  {
   "cell_type": "code",
   "execution_count": 22,
   "id": "0ea62fa9",
   "metadata": {},
   "outputs": [
    {
     "name": "stdout",
     "output_type": "stream",
     "text": [
      "エラー発生\n"
     ]
    }
   ],
   "source": [
    "try:\n",
    "    my_dictionary['じゅうさん']\n",
    "except: \n",
    "    print('エラー発生')"
   ]
  },
  {
   "cell_type": "markdown",
   "id": "d3c6dc14",
   "metadata": {},
   "source": [
    "# M21W0292 課題5"
   ]
  },
  {
   "cell_type": "code",
   "execution_count": 7,
   "id": "2ef8ab03",
   "metadata": {},
   "outputs": [],
   "source": [
    "a_list=[1, 2, 5, 1, 5, 8, 9, 8, 5, 11]\n",
    "b_list=[1, 2, 2, 3, 4, 3, 6, 10, 7]\n",
    "\n",
    "set_a = set(a_list)\n",
    "set_b = set(b_list)"
   ]
  },
  {
   "cell_type": "code",
   "execution_count": 8,
   "id": "7be510ed",
   "metadata": {},
   "outputs": [
    {
     "data": {
      "text/plain": [
       "{1, 2, 3, 4, 5, 6, 7, 8, 9, 10, 11}"
      ]
     },
     "execution_count": 8,
     "metadata": {},
     "output_type": "execute_result"
    }
   ],
   "source": [
    "set_a | set_b"
   ]
  },
  {
   "cell_type": "code",
   "execution_count": 9,
   "id": "8eefd677",
   "metadata": {},
   "outputs": [
    {
     "data": {
      "text/plain": [
       "{3, 4, 5, 6, 7, 8, 9, 10, 11}"
      ]
     },
     "execution_count": 9,
     "metadata": {},
     "output_type": "execute_result"
    }
   ],
   "source": [
    "set_a ^ set_b"
   ]
  },
  {
   "cell_type": "code",
   "execution_count": 11,
   "id": "1825300c",
   "metadata": {},
   "outputs": [
    {
     "data": {
      "text/plain": [
       "{5, 8, 9, 11}"
      ]
     },
     "execution_count": 11,
     "metadata": {},
     "output_type": "execute_result"
    }
   ],
   "source": [
    "set_a - set_b"
   ]
  },
  {
   "cell_type": "code",
   "execution_count": 12,
   "id": "abb9c2f5",
   "metadata": {},
   "outputs": [
    {
     "data": {
      "text/plain": [
       "{1, 2}"
      ]
     },
     "execution_count": 12,
     "metadata": {},
     "output_type": "execute_result"
    }
   ],
   "source": [
    "set_a & set_b"
   ]
  },
  {
   "cell_type": "code",
   "execution_count": null,
   "id": "23692ca8",
   "metadata": {},
   "outputs": [],
   "source": []
  }
 ],
 "metadata": {
  "kernelspec": {
   "display_name": "Python 3",
   "language": "python",
   "name": "python3"
  },
  "language_info": {
   "codemirror_mode": {
    "name": "ipython",
    "version": 3
   },
   "file_extension": ".py",
   "mimetype": "text/x-python",
   "name": "python",
   "nbconvert_exporter": "python",
   "pygments_lexer": "ipython3",
   "version": "3.8.8"
  }
 },
 "nbformat": 4,
 "nbformat_minor": 5
}
