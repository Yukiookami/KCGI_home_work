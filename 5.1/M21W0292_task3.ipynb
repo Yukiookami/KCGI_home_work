{
 "cells": [
  {
   "cell_type": "markdown",
   "id": "df451393",
   "metadata": {},
   "source": [
    "# M21W0292 課題３"
   ]
  },
  {
   "cell_type": "code",
   "execution_count": 1,
   "id": "d08afdf4",
   "metadata": {},
   "outputs": [
    {
     "name": "stdout",
     "output_type": "stream",
     "text": [
      "(4, 9, 6, 15)\n"
     ]
    }
   ],
   "source": [
    "my_tuple = (4, 9, 6, 15)\n",
    "print(my_tuple)"
   ]
  },
  {
   "cell_type": "code",
   "execution_count": 2,
   "id": "68d996b1",
   "metadata": {},
   "outputs": [
    {
     "name": "stdout",
     "output_type": "stream",
     "text": [
      "4\n"
     ]
    }
   ],
   "source": [
    "print(len(my_tuple))"
   ]
  },
  {
   "cell_type": "code",
   "execution_count": 14,
   "id": "eaadd761",
   "metadata": {},
   "outputs": [
    {
     "name": "stdout",
     "output_type": "stream",
     "text": [
      "(4, 9, 6, 15, 11, 1)\n"
     ]
    }
   ],
   "source": [
    "my_tuple = my_tuple + (11, 1)\n",
    "print(my_tuple)"
   ]
  },
  {
   "cell_type": "code",
   "execution_count": 17,
   "id": "db01d5be",
   "metadata": {},
   "outputs": [
    {
     "data": {
      "text/plain": [
       "4"
      ]
     },
     "execution_count": 17,
     "metadata": {},
     "output_type": "execute_result"
    }
   ],
   "source": [
    "my_tuple[0]"
   ]
  },
  {
   "cell_type": "code",
   "execution_count": 16,
   "id": "3b27c31d",
   "metadata": {},
   "outputs": [
    {
     "name": "stdout",
     "output_type": "stream",
     "text": [
      "エラー発生\n"
     ]
    }
   ],
   "source": [
    "try: \n",
    "    my_tuple[0] = 100\n",
    "except:\n",
    "    print('エラー発生')"
   ]
  },
  {
   "cell_type": "code",
   "execution_count": null,
   "id": "e547482c",
   "metadata": {},
   "outputs": [],
   "source": []
  }
 ],
 "metadata": {
  "kernelspec": {
   "display_name": "Python 3",
   "language": "python",
   "name": "python3"
  },
  "language_info": {
   "codemirror_mode": {
    "name": "ipython",
    "version": 3
   },
   "file_extension": ".py",
   "mimetype": "text/x-python",
   "name": "python",
   "nbconvert_exporter": "python",
   "pygments_lexer": "ipython3",
   "version": "3.8.8"
  }
 },
 "nbformat": 4,
 "nbformat_minor": 5
}
