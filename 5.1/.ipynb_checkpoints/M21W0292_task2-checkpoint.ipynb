{
 "cells": [
  {
   "cell_type": "markdown",
   "id": "554d9a3e",
   "metadata": {},
   "source": [
    "M21W0292 課題２"
   ]
  },
  {
   "cell_type": "code",
   "execution_count": 1,
   "id": "ed47d081",
   "metadata": {},
   "outputs": [],
   "source": [
    "my_list = []"
   ]
  },
  {
   "cell_type": "code",
   "execution_count": 2,
   "id": "77f8b23f",
   "metadata": {},
   "outputs": [
    {
     "name": "stdout",
     "output_type": "stream",
     "text": [
      "[4, 8, 6, 9, 7]\n",
      "5\n"
     ]
    }
   ],
   "source": [
    "my_list = [4, 8, 6, 9, 7]\n",
    "print(my_list)\n",
    "print(len(my_list))"
   ]
  },
  {
   "cell_type": "code",
   "execution_count": 10,
   "id": "0084c7d1",
   "metadata": {},
   "outputs": [
    {
     "name": "stdout",
     "output_type": "stream",
     "text": [
      "[0, 4, 8, 6, 9, 7, 12]\n"
     ]
    }
   ],
   "source": [
    "my_list.append(12)\n",
    "my_list.insert(0, 0)\n",
    "print(my_list)"
   ]
  },
  {
   "cell_type": "code",
   "execution_count": 12,
   "id": "6e1795e7",
   "metadata": {},
   "outputs": [
    {
     "name": "stdout",
     "output_type": "stream",
     "text": [
      "[0, 4, 8, 5, 6, 9, 7, 12]\n"
     ]
    }
   ],
   "source": [
    "my_list.insert(my_list.index(6), 5)\n",
    "print(my_list)"
   ]
  },
  {
   "cell_type": "code",
   "execution_count": 13,
   "id": "ee00fcbb",
   "metadata": {},
   "outputs": [
    {
     "name": "stdout",
     "output_type": "stream",
     "text": [
      "[0, 4, 8, 5, 6, 9, 7, 12, 3, 17, 15, 0]\n"
     ]
    }
   ],
   "source": [
    "my_list.extend([3, 17, 15, 0])\n",
    "print(my_list)"
   ]
  },
  {
   "cell_type": "code",
   "execution_count": 16,
   "id": "e9a97b05",
   "metadata": {},
   "outputs": [
    {
     "name": "stdout",
     "output_type": "stream",
     "text": [
      "[0, 0, 3, 4, 5, 6, 7, 8, 9, 12, 15, 17]\n",
      "[6, 7, 8]\n"
     ]
    }
   ],
   "source": [
    "my_list.sort()\n",
    "print(my_list)\n",
    "print(my_list[5:8])"
   ]
  },
  {
   "cell_type": "code",
   "execution_count": 17,
   "id": "5d44e0aa",
   "metadata": {},
   "outputs": [
    {
     "name": "stdout",
     "output_type": "stream",
     "text": [
      "[0, 0, 3, 4, 5, 6, 7, 8, 12, 15, 17]\n"
     ]
    }
   ],
   "source": [
    "my_list.remove(9)\n",
    "print(my_list)"
   ]
  },
  {
   "cell_type": "code",
   "execution_count": 18,
   "id": "da39df57",
   "metadata": {},
   "outputs": [
    {
     "name": "stdout",
     "output_type": "stream",
     "text": [
      "[0, 0, 3, 4, 5, 6, 7, 8, 12, 15]\n"
     ]
    }
   ],
   "source": [
    "my_list.pop()\n",
    "print(my_list)"
   ]
  },
  {
   "cell_type": "code",
   "execution_count": null,
   "id": "b3d8af78",
   "metadata": {},
   "outputs": [],
   "source": []
  }
 ],
 "metadata": {
  "kernelspec": {
   "display_name": "Python 3",
   "language": "python",
   "name": "python3"
  },
  "language_info": {
   "codemirror_mode": {
    "name": "ipython",
    "version": 3
   },
   "file_extension": ".py",
   "mimetype": "text/x-python",
   "name": "python",
   "nbconvert_exporter": "python",
   "pygments_lexer": "ipython3",
   "version": "3.8.8"
  }
 },
 "nbformat": 4,
 "nbformat_minor": 5
}
