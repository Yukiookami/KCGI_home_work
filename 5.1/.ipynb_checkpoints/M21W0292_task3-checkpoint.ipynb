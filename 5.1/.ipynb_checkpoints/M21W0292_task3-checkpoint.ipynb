{
 "cells": [
  {
   "cell_type": "markdown",
   "id": "7489afae",
   "metadata": {},
   "source": [
    "# M21W0292 課題３"
   ]
  },
  {
   "cell_type": "code",
   "execution_count": 1,
   "id": "b30ad053",
   "metadata": {},
   "outputs": [
    {
     "name": "stdout",
     "output_type": "stream",
     "text": [
      "(4, 9, 6, 15)\n"
     ]
    }
   ],
   "source": [
    "my_tuple = (4, 9, 6, 15)\n",
    "print(my_tuple)"
   ]
  },
  {
   "cell_type": "code",
   "execution_count": 2,
   "id": "185c036e",
   "metadata": {},
   "outputs": [
    {
     "name": "stdout",
     "output_type": "stream",
     "text": [
      "4\n"
     ]
    }
   ],
   "source": [
    "print(len(my_tuple))"
   ]
  },
  {
   "cell_type": "code",
   "execution_count": 14,
   "id": "d5c11ddc",
   "metadata": {},
   "outputs": [
    {
     "name": "stdout",
     "output_type": "stream",
     "text": [
      "(4, 9, 6, 15, 11, 1)\n"
     ]
    }
   ],
   "source": [
    "my_tuple = my_tuple + (11, 1)\n",
    "print(my_tuple)"
   ]
  },
  {
   "cell_type": "code",
   "execution_count": 15,
   "id": "5102fe87",
   "metadata": {},
   "outputs": [
    {
     "name": "stdout",
     "output_type": "stream",
     "text": [
      "4\n"
     ]
    }
   ],
   "source": [
    "my_tuple[0]"
   ]
  },
  {
   "cell_type": "code",
   "execution_count": 16,
   "id": "1547b683",
   "metadata": {},
   "outputs": [
    {
     "name": "stdout",
     "output_type": "stream",
     "text": [
      "エラー発生\n"
     ]
    }
   ],
   "source": [
    "try: \n",
    "    my_tuple[0] = 100\n",
    "except:\n",
    "    print('エラー発生')"
   ]
  },
  {
   "cell_type": "code",
   "execution_count": null,
   "id": "6b62ac98",
   "metadata": {},
   "outputs": [],
   "source": []
  }
 ],
 "metadata": {
  "kernelspec": {
   "display_name": "Python 3",
   "language": "python",
   "name": "python3"
  },
  "language_info": {
   "codemirror_mode": {
    "name": "ipython",
    "version": 3
   },
   "file_extension": ".py",
   "mimetype": "text/x-python",
   "name": "python",
   "nbconvert_exporter": "python",
   "pygments_lexer": "ipython3",
   "version": "3.8.8"
  }
 },
 "nbformat": 4,
 "nbformat_minor": 5
}
