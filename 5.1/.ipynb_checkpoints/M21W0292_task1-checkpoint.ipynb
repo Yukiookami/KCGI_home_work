{
 "cells": [
  {
   "cell_type": "markdown",
   "id": "f48ac4f3",
   "metadata": {},
   "source": [
    "# M21W0292  課題１"
   ]
  },
  {
   "cell_type": "code",
   "execution_count": 1,
   "id": "b0268083",
   "metadata": {},
   "outputs": [],
   "source": [
    "words = 'KCGIPython'"
   ]
  },
  {
   "cell_type": "code",
   "execution_count": 2,
   "id": "8d93f3fd",
   "metadata": {},
   "outputs": [],
   "source": [
    "words3 = words * 3"
   ]
  },
  {
   "cell_type": "code",
   "execution_count": 11,
   "id": "6816ed06",
   "metadata": {},
   "outputs": [
    {
     "name": "stdout",
     "output_type": "stream",
     "text": [
      "10\n",
      "30\n",
      "K\n",
      "P\n",
      "KCGIPythonKCGIPythonKCGIPython\n"
     ]
    }
   ],
   "source": [
    "print(len(words))\n",
    "print(len(words3))\n",
    "print(words3[0]) \n",
    "print(words3[14])\n",
    "print(words3[29])"
   ]
  },
  {
   "cell_type": "code",
   "execution_count": 13,
   "id": "44e53197",
   "metadata": {},
   "outputs": [
    {
     "name": "stdout",
     "output_type": "stream",
     "text": [
      "エラー検出\n"
     ]
    }
   ],
   "source": [
    "try:\n",
    "    words3[len(words3)]\n",
    "except:\n",
    "    print(\"エラー検出\")"
   ]
  },
  {
   "cell_type": "code",
   "execution_count": null,
   "id": "8c257f46",
   "metadata": {},
   "outputs": [],
   "source": []
  }
 ],
 "metadata": {
  "kernelspec": {
   "display_name": "Python 3",
   "language": "python",
   "name": "python3"
  },
  "language_info": {
   "codemirror_mode": {
    "name": "ipython",
    "version": 3
   },
   "file_extension": ".py",
   "mimetype": "text/x-python",
   "name": "python",
   "nbconvert_exporter": "python",
   "pygments_lexer": "ipython3",
   "version": "3.8.8"
  }
 },
 "nbformat": 4,
 "nbformat_minor": 5
}
