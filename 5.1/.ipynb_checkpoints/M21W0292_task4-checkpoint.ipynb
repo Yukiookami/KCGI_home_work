{
 "cells": [
  {
   "cell_type": "markdown",
   "id": "080b6497",
   "metadata": {},
   "source": [
    "# M21W0292 課題４"
   ]
  },
  {
   "cell_type": "code",
   "execution_count": 10,
   "id": "edee7791",
   "metadata": {},
   "outputs": [
    {
     "name": "stdout",
     "output_type": "stream",
     "text": [
      "{'いち': 1, 'に': 2, 'さん': 3, 'よん': 4, 'ご': 5, 'ろく': 6, 'なな': 7, 'はち': 8, 'きゅう': 9, 'じゅう': 10}\n"
     ]
    }
   ],
   "source": [
    "my_dictionary = {\n",
    "    'いち': 1, \n",
    "    'に': 2, \n",
    "    'さん': 3,\n",
    "    'よん': 4,\n",
    "    'ご': 5,\n",
    "    'ろく': 6,\n",
    "    'なな': 7,\n",
    "    'はち': 8,\n",
    "    'きゅう': 9,\n",
    "    'じゅう': 10\n",
    "}\n",
    "\n",
    "print(my_dictionary)"
   ]
  },
  {
   "cell_type": "code",
   "execution_count": 11,
   "id": "7f44b6ba",
   "metadata": {},
   "outputs": [
    {
     "name": "stdout",
     "output_type": "stream",
     "text": [
      "3\n"
     ]
    }
   ],
   "source": [
    "my_dictionary['さん']"
   ]
  },
  {
   "cell_type": "code",
   "execution_count": 19,
   "id": "5e0d6b53",
   "metadata": {},
   "outputs": [
    {
     "name": "stdout",
     "output_type": "stream",
     "text": [
      "11\n",
      "True\n"
     ]
    }
   ],
   "source": [
    "my_dictionary['じゅういち'] = 11\n",
    "\n",
    "print(len(my_dictionary))\n",
    "print('じゅういち' in my_dictionary)"
   ]
  },
  {
   "cell_type": "code",
   "execution_count": 24,
   "id": "2a9fc1d9",
   "metadata": {},
   "outputs": [
    {
     "name": "stdout",
     "output_type": "stream",
     "text": [
      "いち 1\n",
      "に 2\n",
      "さん 3\n",
      "よん 4\n",
      "ご 5\n",
      "ろく 6\n",
      "なな 7\n",
      "はち 8\n",
      "きゅう 9\n",
      "じゅう 10\n",
      "じゅういち 11\n"
     ]
    }
   ],
   "source": [
    "for key,values in  my_dictionary.items():\n",
    "    print(key, values)"
   ]
  },
  {
   "cell_type": "code",
   "execution_count": 25,
   "id": "b4c482b2",
   "metadata": {},
   "outputs": [
    {
     "name": "stdout",
     "output_type": "stream",
     "text": [
      "エラー発生\n"
     ]
    }
   ],
   "source": [
    "try:\n",
    "    my_dictionary['じゅうさん']\n",
    "except: \n",
    "    print('エラー発生')"
   ]
  },
  {
   "cell_type": "code",
   "execution_count": null,
   "id": "3fe747de",
   "metadata": {},
   "outputs": [],
   "source": []
  }
 ],
 "metadata": {
  "kernelspec": {
   "display_name": "Python 3",
   "language": "python",
   "name": "python3"
  },
  "language_info": {
   "codemirror_mode": {
    "name": "ipython",
    "version": 3
   },
   "file_extension": ".py",
   "mimetype": "text/x-python",
   "name": "python",
   "nbconvert_exporter": "python",
   "pygments_lexer": "ipython3",
   "version": "3.8.8"
  }
 },
 "nbformat": 4,
 "nbformat_minor": 5
}
