{
 "cells": [
  {
   "cell_type": "markdown",
   "metadata": {},
   "source": [
    "あなたの学籍番号と名前を下のセルにコメント行で記述"
   ]
  },
  {
   "cell_type": "code",
   "execution_count": 4,
   "metadata": {},
   "outputs": [],
   "source": [
    "#M21W0292　鄒欣雨"
   ]
  },
  {
   "cell_type": "markdown",
   "metadata": {},
   "source": [
    "演習１\n",
    "\n",
    "三重引用符（”””     ”””）の構文を使い，複数行の全角の文字列を書きなさい。そして表示しなさい"
   ]
  },
  {
   "cell_type": "code",
   "execution_count": 5,
   "metadata": {},
   "outputs": [],
   "source": [
    "#演習例\n",
    "text1=\"\"\"京都情報大学院大学に通学しています。\n",
    "　京都市に住んでいません、 \n",
    "　大阪市に住んでいます。\"\"\"\n"
   ]
  },
  {
   "cell_type": "code",
   "execution_count": 1,
   "metadata": {},
   "outputs": [
    {
     "data": {
      "text/plain": [
       "'京都情報大学院大学に通学しています。\\n\\u3000京都市に住んでいません、 \\n\\u3000大阪市に住んでいます。'"
      ]
     },
     "execution_count": 1,
     "metadata": {},
     "output_type": "execute_result"
    }
   ],
   "source": [
    "#演習1\n",
    "text1=\"\"\"京都情報大学院大学に通学しています。\n",
    "　京都市に住んでいません、 \n",
    "　大阪市に住んでいます。\"\"\"\n",
    "text1"
   ]
  },
  {
   "cell_type": "markdown",
   "metadata": {},
   "source": [
    "演習2\n",
    "\n",
    "下記の文字列を操作しなさい。\n",
    "“the Kyoto College of Graduate studies for informatics”\n",
    "\n",
    "a. `upper()`を使って，全文字を大文字にしなさい\n",
    "\n",
    "b. `lower()`を使って，全文字を小文字にしなさい\n",
    "\n",
    "c. `title()`を使って，各単語の最初の文字を大文字にしなさい\n",
    "\n",
    "d. `capitalize()`を使って，文章の最初の文字を大文字にしなさい"
   ]
  },
  {
   "cell_type": "code",
   "execution_count": 7,
   "metadata": {},
   "outputs": [],
   "source": [
    "text2='  the Kyoto College of Graduate studies for informatics  '\n",
    "\n"
   ]
  },
  {
   "cell_type": "code",
   "execution_count": 1,
   "metadata": {},
   "outputs": [
    {
     "name": "stdout",
     "output_type": "stream",
     "text": [
      "  THE KYOTO COLLEGE OF GRADUATE STUDIES FOR INFORMATICS  \n",
      "  the kyoto college of graduate studies for informatics  \n",
      "  The Kyoto College Of Graduate Studies For Informatics  \n",
      "  the kyoto college of graduate studies for informatics  \n"
     ]
    }
   ],
   "source": [
    "text2='  the Kyoto College of Graduate studies for informatics  '\n",
    "#a\n",
    "print(text2.upper())\n",
    "#b\n",
    "print(text2.lower())\n",
    "#c\n",
    "print(text2.title())\n",
    "\n",
    "#d\n",
    "print(text2.capitalize())\n"
   ]
  },
  {
   "cell_type": "markdown",
   "metadata": {},
   "source": [
    "演習３\n",
    "\n",
    "下記の文字列を操作しなさい。\n",
    "\"   The Kyoto College of \n",
    " Graduate studies for\n",
    "  informatics   \"\n",
    "\n",
    "a. `.strip()`を使って，上記の文字列から前後のスペースを取りなさい。\n",
    "\n",
    "b. 同様に`.rstrip()`を使うとどうなるか確認しなさい"
   ]
  },
  {
   "cell_type": "code",
   "execution_count": 2,
   "metadata": {},
   "outputs": [
    {
     "data": {
      "text/plain": [
       "'   The Kyoto College of \\n Graduate studies for\\n  informatics   '"
      ]
     },
     "execution_count": 2,
     "metadata": {},
     "output_type": "execute_result"
    }
   ],
   "source": [
    "text3=\"\"\"   The Kyoto College of \n",
    " Graduate studies for\n",
    "  informatics   \"\"\"\n",
    "\n",
    "text3"
   ]
  },
  {
   "cell_type": "code",
   "execution_count": 3,
   "metadata": {},
   "outputs": [
    {
     "data": {
      "text/plain": [
       "'The Kyoto College of \\n Graduate studies for\\n  informatics'"
      ]
     },
     "execution_count": 3,
     "metadata": {},
     "output_type": "execute_result"
    }
   ],
   "source": [
    "#a  strip()\n",
    "text3.strip()\n"
   ]
  },
  {
   "cell_type": "code",
   "execution_count": 2,
   "metadata": {},
   "outputs": [
    {
     "data": {
      "text/plain": [
       "'   The Kyoto College of \\n Graduate studies for\\n  informatics'"
      ]
     },
     "execution_count": 2,
     "metadata": {},
     "output_type": "execute_result"
    }
   ],
   "source": [
    "text3=\"\"\"   The Kyoto College of \n",
    " Graduate studies for\n",
    "  informatics  \"\"\"\n",
    "#b rstrip()\n",
    "text3.rstrip()\n",
    "\n"
   ]
  },
  {
   "cell_type": "markdown",
   "metadata": {},
   "source": [
    "演習３を全角文字で試す"
   ]
  },
  {
   "cell_type": "code",
   "execution_count": 3,
   "metadata": {},
   "outputs": [
    {
     "data": {
      "text/plain": [
       "'京都情報大学院大学に通学しています。\\n\\u3000京都市に住んでいません、\\n\\u3000大阪市に住んでいます。'"
      ]
     },
     "execution_count": 3,
     "metadata": {},
     "output_type": "execute_result"
    }
   ],
   "source": [
    "text4=\"\"\"　京都情報大学院大学に通学しています。\n",
    "　京都市に住んでいません、\n",
    "　大阪市に住んでいます。　\"\"\"\n",
    "\n",
    "#strip()\n",
    "text4.strip()"
   ]
  },
  {
   "cell_type": "code",
   "execution_count": 4,
   "metadata": {},
   "outputs": [
    {
     "data": {
      "text/plain": [
       "'京都情報大学院大学に通学しています。\\u3000\\u3000\\n\\u3000京都市に住んでいません、\\n\\u3000大阪市に住んでいます。'"
      ]
     },
     "execution_count": 4,
     "metadata": {},
     "output_type": "execute_result"
    }
   ],
   "source": [
    "text4=\"\"\"　京都情報大学院大学に通学しています。　　\n",
    "　京都市に住んでいません、\n",
    "　大阪市に住んでいます。　\"\"\"\n",
    "\n",
    "#rstrip()\n",
    "text4.strip()"
   ]
  },
  {
   "cell_type": "markdown",
   "metadata": {},
   "source": [
    "演習４\n",
    "`find()`, `rfind()`  `startswith()`, `endswith()`を使うと，文字列の中の探したい文字や数字など見つけることができる。また，`replace()` は,　文字列の一部を変更することができる。\n",
    "\n",
    "下記の文字列について，a～dまでの問題を解きなさい。\n",
    "　　”the kyoto college of graduate studies for informatics”\n",
    "  \n",
    "a) `find()`を使って，`kyoto`の文字を探しなさい\n",
    "\n",
    "b) `find()`を使って，`at`の文字を探しなさい 。また、`rfind()`を使って`at`の文字を探し，違いを確認しなさい\n",
    "\n",
    "c) `startswith()`を使って，`kyoto`は一番目の文字であるかどうか探しなさい。 次に`the`について調べなさい\n",
    "\n",
    "d) `replace()`を使って，` at `を`---`に変更しなさい"
   ]
  },
  {
   "cell_type": "code",
   "execution_count": 21,
   "metadata": {},
   "outputs": [],
   "source": [
    "text5=\"the kyoto college of graduate studies for informatics\"\n"
   ]
  },
  {
   "cell_type": "code",
   "execution_count": 22,
   "metadata": {},
   "outputs": [
    {
     "data": {
      "text/plain": [
       "4"
      ]
     },
     "execution_count": 22,
     "metadata": {},
     "output_type": "execute_result"
    }
   ],
   "source": [
    "text5.find('kyoto')\n"
   ]
  },
  {
   "cell_type": "code",
   "execution_count": 23,
   "metadata": {},
   "outputs": [
    {
     "data": {
      "text/plain": [
       "26"
      ]
     },
     "execution_count": 23,
     "metadata": {},
     "output_type": "execute_result"
    }
   ],
   "source": [
    "text5.find('at')"
   ]
  },
  {
   "cell_type": "code",
   "execution_count": 24,
   "metadata": {},
   "outputs": [
    {
     "data": {
      "text/plain": [
       "48"
      ]
     },
     "execution_count": 24,
     "metadata": {},
     "output_type": "execute_result"
    }
   ],
   "source": [
    "text5.rfind('at')"
   ]
  },
  {
   "cell_type": "code",
   "execution_count": 25,
   "metadata": {},
   "outputs": [
    {
     "data": {
      "text/plain": [
       "False"
      ]
     },
     "execution_count": 25,
     "metadata": {},
     "output_type": "execute_result"
    }
   ],
   "source": [
    "text5.startswith('kyoto')"
   ]
  },
  {
   "cell_type": "code",
   "execution_count": 26,
   "metadata": {},
   "outputs": [
    {
     "data": {
      "text/plain": [
       "True"
      ]
     },
     "execution_count": 26,
     "metadata": {},
     "output_type": "execute_result"
    }
   ],
   "source": [
    "text5.startswith('the')"
   ]
  },
  {
   "cell_type": "code",
   "execution_count": 28,
   "metadata": {},
   "outputs": [
    {
     "data": {
      "text/plain": [
       "'the kyoto college of gradu---e studies for inform---ics'"
      ]
     },
     "execution_count": 28,
     "metadata": {},
     "output_type": "execute_result"
    }
   ],
   "source": [
    "text5.replace('at', '---')"
   ]
  },
  {
   "cell_type": "code",
   "execution_count": null,
   "metadata": {},
   "outputs": [],
   "source": []
  }
 ],
 "metadata": {
  "kernelspec": {
   "display_name": "Python 3",
   "language": "python",
   "name": "python3"
  },
  "language_info": {
   "codemirror_mode": {
    "name": "ipython",
    "version": 3
   },
   "file_extension": ".py",
   "mimetype": "text/x-python",
   "name": "python",
   "nbconvert_exporter": "python",
   "pygments_lexer": "ipython3",
   "version": "3.8.8"
  }
 },
 "nbformat": 4,
 "nbformat_minor": 4
}
