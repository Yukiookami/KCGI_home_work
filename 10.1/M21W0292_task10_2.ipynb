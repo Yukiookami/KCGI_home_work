{
 "cells": [
  {
   "cell_type": "markdown",
   "id": "fc56ab28",
   "metadata": {},
   "source": [
    "# M21W0292 鄒欣雨"
   ]
  },
  {
   "cell_type": "code",
   "execution_count": 2,
   "id": "59c671ee",
   "metadata": {},
   "outputs": [],
   "source": [
    "text = 'the kyoto college of graduate studies for informatics'"
   ]
  },
  {
   "cell_type": "code",
   "execution_count": 5,
   "id": "7568737b",
   "metadata": {},
   "outputs": [],
   "source": [
    "import re"
   ]
  },
  {
   "cell_type": "code",
   "execution_count": 8,
   "id": "371f62ab",
   "metadata": {},
   "outputs": [
    {
     "name": "stdout",
     "output_type": "stream",
     "text": [
      "None\n"
     ]
    }
   ],
   "source": [
    "print(re.match('kyoto', text))"
   ]
  },
  {
   "cell_type": "code",
   "execution_count": 9,
   "id": "012ae5d9",
   "metadata": {},
   "outputs": [
    {
     "name": "stdout",
     "output_type": "stream",
     "text": [
      "<re.Match object; span=(0, 9), match='the kyoto'>\n"
     ]
    }
   ],
   "source": [
    "print(re.match('.*kyoto', text))"
   ]
  },
  {
   "cell_type": "code",
   "execution_count": 12,
   "id": "a3301d15",
   "metadata": {},
   "outputs": [
    {
     "data": {
      "text/plain": [
       "<re.Match object; span=(4, 9), match='kyoto'>"
      ]
     },
     "execution_count": 12,
     "metadata": {},
     "output_type": "execute_result"
    }
   ],
   "source": [
    "re.search('kyoto', text)"
   ]
  },
  {
   "cell_type": "code",
   "execution_count": 13,
   "id": "cfa7d2fd",
   "metadata": {},
   "outputs": [
    {
     "data": {
      "text/plain": [
       "<re.Match object; span=(0, 9), match='the kyoto'>"
      ]
     },
     "execution_count": 13,
     "metadata": {},
     "output_type": "execute_result"
    }
   ],
   "source": [
    "re.search('.*kyoto', text)"
   ]
  },
  {
   "cell_type": "code",
   "execution_count": 16,
   "id": "098063c6",
   "metadata": {},
   "outputs": [
    {
     "data": {
      "text/plain": [
       "['the kyoto college of graduate studies for informat']"
      ]
     },
     "execution_count": 16,
     "metadata": {},
     "output_type": "execute_result"
    }
   ],
   "source": [
    "re.findall('.*at', text)"
   ]
  },
  {
   "cell_type": "code",
   "execution_count": 17,
   "id": "6678cb84",
   "metadata": {},
   "outputs": [
    {
     "data": {
      "text/plain": [
       "'the kyoto college of gradu---e studies for inform---ics'"
      ]
     },
     "execution_count": 17,
     "metadata": {},
     "output_type": "execute_result"
    }
   ],
   "source": [
    "re.sub(\"at\", \"---\", text)"
   ]
  },
  {
   "cell_type": "code",
   "execution_count": null,
   "id": "aabc4711",
   "metadata": {},
   "outputs": [],
   "source": []
  }
 ],
 "metadata": {
  "kernelspec": {
   "display_name": "Python 3",
   "language": "python",
   "name": "python3"
  },
  "language_info": {
   "codemirror_mode": {
    "name": "ipython",
    "version": 3
   },
   "file_extension": ".py",
   "mimetype": "text/x-python",
   "name": "python",
   "nbconvert_exporter": "python",
   "pygments_lexer": "ipython3",
   "version": "3.8.8"
  }
 },
 "nbformat": 4,
 "nbformat_minor": 5
}
