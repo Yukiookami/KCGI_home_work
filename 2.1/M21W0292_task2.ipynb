{
 "cells": [
  {
   "cell_type": "markdown",
   "id": "2e3c777b",
   "metadata": {},
   "source": [
    "1."
   ]
  },
  {
   "cell_type": "code",
   "execution_count": 10,
   "id": "8118f01f",
   "metadata": {},
   "outputs": [
    {
     "name": "stdout",
     "output_type": "stream",
     "text": [
      "一時間は3600秒です\n"
     ]
    }
   ],
   "source": [
    "seconds_per_hour = 60 * 60\n",
    "print(\"一時間は\" + str(seconds_per_hour) + \"秒です\")"
   ]
  },
  {
   "cell_type": "code",
   "execution_count": 11,
   "id": "5f657a39",
   "metadata": {},
   "outputs": [
    {
     "name": "stdout",
     "output_type": "stream",
     "text": [
      "一日は86400秒です\n"
     ]
    }
   ],
   "source": [
    "seconds_per_day = 60 * 60 * 24\n",
    "print(\"一日は\" + str(seconds_per_day) + \"秒です\")"
   ]
  },
  {
   "cell_type": "code",
   "execution_count": 14,
   "id": "44818fbf",
   "metadata": {},
   "outputs": [
    {
     "name": "stdout",
     "output_type": "stream",
     "text": [
      "一年は31536000秒です\n"
     ]
    }
   ],
   "source": [
    "seconds_per_year = 60 * 60 * 24 * 365\n",
    "print(\"一年は\" + str(seconds_per_year) + \"秒です\")"
   ]
  },
  {
   "cell_type": "code",
   "execution_count": 20,
   "id": "6e3e2666",
   "metadata": {},
   "outputs": [
    {
     "name": "stdout",
     "output_type": "stream",
     "text": [
      "8760.0\n"
     ]
    }
   ],
   "source": [
    "num1 = seconds_per_year / seconds_per_hour\n",
    "print(num1)"
   ]
  },
  {
   "cell_type": "code",
   "execution_count": 22,
   "id": "414791b8",
   "metadata": {},
   "outputs": [
    {
     "name": "stdout",
     "output_type": "stream",
     "text": [
      "8760\n"
     ]
    },
    {
     "data": {
      "text/plain": [
       "True"
      ]
     },
     "execution_count": 22,
     "metadata": {},
     "output_type": "execute_result"
    }
   ],
   "source": [
    "num2 = seconds_per_year // seconds_per_hour\n",
    "print(num2)\n",
    "num1 == num2"
   ]
  },
  {
   "cell_type": "markdown",
   "id": "582a7d42",
   "metadata": {},
   "source": [
    "2."
   ]
  },
  {
   "cell_type": "code",
   "execution_count": 23,
   "id": "767b50ac",
   "metadata": {},
   "outputs": [
    {
     "data": {
      "text/plain": [
       "float"
      ]
     },
     "execution_count": 23,
     "metadata": {},
     "output_type": "execute_result"
    }
   ],
   "source": [
    "type(1.2 + 3.8)"
   ]
  },
  {
   "cell_type": "code",
   "execution_count": 25,
   "id": "d3f88732",
   "metadata": {},
   "outputs": [
    {
     "data": {
      "text/plain": [
       "str"
      ]
     },
     "execution_count": 25,
     "metadata": {},
     "output_type": "execute_result"
    }
   ],
   "source": [
    "type('1.2' + '3.8')"
   ]
  },
  {
   "cell_type": "code",
   "execution_count": 26,
   "id": "21e081b9",
   "metadata": {},
   "outputs": [
    {
     "data": {
      "text/plain": [
       "float"
      ]
     },
     "execution_count": 26,
     "metadata": {},
     "output_type": "execute_result"
    }
   ],
   "source": [
    "type(10 / 2)"
   ]
  },
  {
   "cell_type": "code",
   "execution_count": 27,
   "id": "7678a82b",
   "metadata": {},
   "outputs": [
    {
     "data": {
      "text/plain": [
       "int"
      ]
     },
     "execution_count": 27,
     "metadata": {},
     "output_type": "execute_result"
    }
   ],
   "source": [
    "type(10 // 100)"
   ]
  },
  {
   "cell_type": "code",
   "execution_count": 28,
   "id": "bb21269c",
   "metadata": {},
   "outputs": [
    {
     "data": {
      "text/plain": [
       "bool"
      ]
     },
     "execution_count": 28,
     "metadata": {},
     "output_type": "execute_result"
    }
   ],
   "source": [
    "type(1 >= 0)"
   ]
  },
  {
   "cell_type": "code",
   "execution_count": 30,
   "id": "0e5819d0",
   "metadata": {},
   "outputs": [
    {
     "data": {
      "text/plain": [
       "bool"
      ]
     },
     "execution_count": 30,
     "metadata": {},
     "output_type": "execute_result"
    }
   ],
   "source": [
    "type('KCG' != 'KCGI')"
   ]
  },
  {
   "cell_type": "code",
   "execution_count": 33,
   "id": "2c2e9d17",
   "metadata": {},
   "outputs": [
    {
     "ename": "ZeroDivisionError",
     "evalue": "division by zero",
     "output_type": "error",
     "traceback": [
      "\u001b[0;31m---------------------------------------------------------------------------\u001b[0m",
      "\u001b[0;31mZeroDivisionError\u001b[0m                         Traceback (most recent call last)",
      "\u001b[0;32m<ipython-input-33-1a638846aa3a>\u001b[0m in \u001b[0;36m<module>\u001b[0;34m\u001b[0m\n\u001b[0;32m----> 1\u001b[0;31m \u001b[0mtype\u001b[0m\u001b[0;34m(\u001b[0m\u001b[0;36m2\u001b[0m \u001b[0;34m/\u001b[0m \u001b[0;36m0\u001b[0m\u001b[0;34m)\u001b[0m\u001b[0;34m\u001b[0m\u001b[0;34m\u001b[0m\u001b[0m\n\u001b[0m",
      "\u001b[0;31mZeroDivisionError\u001b[0m: division by zero"
     ]
    }
   ],
   "source": [
    "type(2 / 0)"
   ]
  },
  {
   "cell_type": "markdown",
   "id": "dbc3a998",
   "metadata": {},
   "source": [
    "3."
   ]
  },
  {
   "cell_type": "code",
   "execution_count": 34,
   "id": "bece42b5",
   "metadata": {},
   "outputs": [
    {
     "name": "stdout",
     "output_type": "stream",
     "text": [
      "名前を入力せよ>>Quin\n",
      "Quin\n"
     ]
    }
   ],
   "source": [
    "name = input('名前を入力せよ>>')\n",
    "print(name)"
   ]
  },
  {
   "cell_type": "code",
   "execution_count": 36,
   "id": "78bdebc2",
   "metadata": {},
   "outputs": [
    {
     "name": "stdout",
     "output_type": "stream",
     "text": [
      "誕生年 を入力せよ>>1999\n",
      "1999\n"
     ]
    }
   ],
   "source": [
    "year = input('誕生年 を入力せよ>>')\n",
    "print(int(year))"
   ]
  },
  {
   "cell_type": "code",
   "execution_count": 38,
   "id": "dee7acbf",
   "metadata": {},
   "outputs": [
    {
     "name": "stdout",
     "output_type": "stream",
     "text": [
      "年齢は22\n"
     ]
    }
   ],
   "source": [
    "print('年齢は' + str(2021 - int(year)))"
   ]
  },
  {
   "cell_type": "markdown",
   "id": "a6418eb1",
   "metadata": {},
   "source": [
    "4."
   ]
  },
  {
   "cell_type": "code",
   "execution_count": 54,
   "id": "bb001b6d",
   "metadata": {},
   "outputs": [
    {
     "name": "stdout",
     "output_type": "stream",
     "text": [
      "金額を入力ください3624\n",
      "500円7枚、　100円1枚、　50円0枚、　10円2枚、　5円0枚、　1円4枚、　\n"
     ]
    }
   ],
   "source": [
    "coin = input('金額を入力ください')\n",
    "gh = int(coin) // 500\n",
    "h = int(coin) % 500 // 100\n",
    "gj = int(coin) % 500 % 100 // 50\n",
    "j = int(coin) % 500 % 100 % 50 // 10\n",
    "g = int(coin) % 500 % 100 % 50 % 10 // 5\n",
    "i = int(coin) % 500 % 100 % 50 % 10 % 5\n",
    "print(\"500円\"+str(gh)+\"枚、　\"+\"100円\"+str(h)+\"枚、　\"+\"50円\"+str(gj)+\"枚、　\"+\"10円\"+ str(j)+\"枚、　\"+\"5円\"+str(g)+\"枚、　\"+\"1円\"+str(i)+\"枚、　\")"
   ]
  }
 ],
 "metadata": {
  "kernelspec": {
   "display_name": "Python 3",
   "language": "python",
   "name": "python3"
  },
  "language_info": {
   "codemirror_mode": {
    "name": "ipython",
    "version": 3
   },
   "file_extension": ".py",
   "mimetype": "text/x-python",
   "name": "python",
   "nbconvert_exporter": "python",
   "pygments_lexer": "ipython3",
   "version": "3.8.8"
  }
 },
 "nbformat": 4,
 "nbformat_minor": 5
}
