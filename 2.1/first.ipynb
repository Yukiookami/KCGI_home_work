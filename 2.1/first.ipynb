{
 "cells": [
  {
   "cell_type": "code",
   "execution_count": 24,
   "id": "063e93bc",
   "metadata": {},
   "outputs": [
    {
     "name": "stdout",
     "output_type": "stream",
     "text": [
      "私は\n",
      "鄒欣雨\n",
      "です\n"
     ]
    },
    {
     "data": {
      "text/plain": [
       "'私は\\n鄒欣雨\\nです'"
      ]
     },
     "execution_count": 24,
     "metadata": {},
     "output_type": "execute_result"
    }
   ],
   "source": [
    "name = '''私は\n",
    "鄒欣雨\n",
    "です'''\n",
    "print(name)\n",
    "name"
   ]
  },
  {
   "cell_type": "code",
   "execution_count": 28,
   "id": "bb4aaf23",
   "metadata": {},
   "outputs": [
    {
     "name": "stdout",
     "output_type": "stream",
     "text": [
      "鄒 欣雨\n",
      "鄒欣雨\n",
      "103\n",
      "13\n",
      "13.0\n"
     ]
    }
   ],
   "source": [
    "name1 = \"鄒\"\n",
    "name2 = \"欣雨\"\n",
    "print(name1, name2)\n",
    "print(name1 + name2)\n",
    "\n",
    "num1 = \"10\"\n",
    "num2 = \"3\"\n",
    "print(num1 + num2)\n",
    "num1 = 10\n",
    "num2 = 3\n",
    "print(num1 + num2)\n",
    "num1 = 10\n",
    "num2 = float(\"3\")\n",
    "print(num1 + num2)"
   ]
  },
  {
   "cell_type": "code",
   "execution_count": 1,
   "id": "20992d5a",
   "metadata": {},
   "outputs": [
    {
     "data": {
      "text/plain": [
       "'hello python'"
      ]
     },
     "execution_count": 1,
     "metadata": {},
     "output_type": "execute_result"
    }
   ],
   "source": [
    "\"hello python\""
   ]
  },
  {
   "cell_type": "code",
   "execution_count": 5,
   "id": "636f0970",
   "metadata": {},
   "outputs": [
    {
     "data": {
      "text/plain": [
       "'私は鄒 欣雨です'"
      ]
     },
     "execution_count": 5,
     "metadata": {},
     "output_type": "execute_result"
    }
   ],
   "source": [
    "\"私は鄒 欣雨です\""
   ]
  },
  {
   "cell_type": "code",
   "execution_count": 4,
   "id": "23f24286",
   "metadata": {},
   "outputs": [
    {
     "name": "stdout",
     "output_type": "stream",
     "text": [
      "私は鄒 欣雨です\n"
     ]
    }
   ],
   "source": [
    "print(\"私は鄒 欣雨です\")"
   ]
  },
  {
   "cell_type": "markdown",
   "id": "83e11a03",
   "metadata": {},
   "source": [
    "四則演算もできます"
   ]
  },
  {
   "cell_type": "code",
   "execution_count": 7,
   "id": "9a50d260",
   "metadata": {},
   "outputs": [
    {
     "name": "stdout",
     "output_type": "stream",
     "text": [
      "13\n",
      "7\n"
     ]
    }
   ],
   "source": [
    "# 四則演算もできます\n",
    "print(10 + 3)\n",
    "print(10 - 3)"
   ]
  },
  {
   "cell_type": "code",
   "execution_count": 10,
   "id": "93f640ee",
   "metadata": {},
   "outputs": [
    {
     "data": {
      "text/plain": [
       "int"
      ]
     },
     "execution_count": 10,
     "metadata": {},
     "output_type": "execute_result"
    }
   ],
   "source": [
    "10.1 + 3\n",
    "type(10)"
   ]
  },
  {
   "cell_type": "code",
   "execution_count": 9,
   "id": "b018c02e",
   "metadata": {},
   "outputs": [
    {
     "data": {
      "text/plain": [
       "float"
      ]
     },
     "execution_count": 9,
     "metadata": {},
     "output_type": "execute_result"
    }
   ],
   "source": [
    "type(10.0)"
   ]
  },
  {
   "cell_type": "code",
   "execution_count": 11,
   "id": "ee19b871",
   "metadata": {},
   "outputs": [
    {
     "data": {
      "text/plain": [
       "str"
      ]
     },
     "execution_count": 11,
     "metadata": {},
     "output_type": "execute_result"
    }
   ],
   "source": [
    "type(\"10.0\")"
   ]
  },
  {
   "cell_type": "code",
   "execution_count": 12,
   "id": "849a9359",
   "metadata": {},
   "outputs": [
    {
     "name": "stdout",
     "output_type": "stream",
     "text": [
      "13\n"
     ]
    }
   ],
   "source": [
    "a = 10\n",
    "a =  a + 3\n",
    "print(a)"
   ]
  },
  {
   "cell_type": "code",
   "execution_count": 14,
   "id": "40b79586",
   "metadata": {},
   "outputs": [
    {
     "name": "stdout",
     "output_type": "stream",
     "text": [
      "hello python\n"
     ]
    }
   ],
   "source": [
    "text = \"hello python\"\n",
    "print(text)"
   ]
  },
  {
   "cell_type": "code",
   "execution_count": 16,
   "id": "ded19baa",
   "metadata": {},
   "outputs": [
    {
     "name": "stdout",
     "output_type": "stream",
     "text": [
      "23.529411764705884\n"
     ]
    }
   ],
   "source": [
    "height = 1.7\n",
    "weight  = 68\n",
    "bmi = weight / height ** 2\n",
    "print(bmi)"
   ]
  },
  {
   "cell_type": "code",
   "execution_count": 18,
   "id": "40db5c99",
   "metadata": {},
   "outputs": [
    {
     "name": "stdout",
     "output_type": "stream",
     "text": [
      "10 3 20\n",
      "10 3 20\n"
     ]
    }
   ],
   "source": [
    "a = 10; b = 3; c = 20\n",
    "print(a, b ,c)\n",
    "a, b, c = 10, 3 ,20\n",
    "print(a, b ,c)"
   ]
  },
  {
   "cell_type": "code",
   "execution_count": null,
   "id": "8ceaf21f",
   "metadata": {},
   "outputs": [],
   "source": []
  }
 ],
 "metadata": {
  "kernelspec": {
   "display_name": "Python 3",
   "language": "python",
   "name": "python3"
  },
  "language_info": {
   "codemirror_mode": {
    "name": "ipython",
    "version": 3
   },
   "file_extension": ".py",
   "mimetype": "text/x-python",
   "name": "python",
   "nbconvert_exporter": "python",
   "pygments_lexer": "ipython3",
   "version": "3.8.8"
  }
 },
 "nbformat": 4,
 "nbformat_minor": 5
}
