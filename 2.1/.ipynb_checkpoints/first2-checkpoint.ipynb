{
 "cells": [
  {
   "cell_type": "code",
   "execution_count": 2,
   "id": "17b09541",
   "metadata": {},
   "outputs": [
    {
     "name": "stdout",
     "output_type": "stream",
     "text": [
      "入力してください>>>fnndp\n",
      "fnndp\n"
     ]
    }
   ],
   "source": [
    "strings = input('入力してください>>>')\n",
    "print(strings)"
   ]
  },
  {
   "cell_type": "code",
   "execution_count": 5,
   "id": "6704670c",
   "metadata": {},
   "outputs": [
    {
     "name": "stdout",
     "output_type": "stream",
     "text": [
      "私は鄒欣雨です。名前を入力してください>>>Quin\n",
      "こんにちは！Quinさん\n"
     ]
    }
   ],
   "source": [
    "name = input(\"私は鄒欣雨です。名前を入力してください>>>\")\n",
    "print(\"こんにちは！\" + name + \"さん\")"
   ]
  },
  {
   "cell_type": "code",
   "execution_count": 11,
   "id": "937dc5b6",
   "metadata": {},
   "outputs": [
    {
     "name": "stdout",
     "output_type": "stream",
     "text": [
      "数値を入力してください>>>3\n",
      "3の3.14倍は9.42です\n"
     ]
    }
   ],
   "source": [
    "num = input(\"数値を入力してください>>>\")\n",
    "print(num + \"の3.14倍は\" +  str(float(num) * 3.14)  + \"です\")"
   ]
  },
  {
   "cell_type": "code",
   "execution_count": 14,
   "id": "dd66c04c",
   "metadata": {},
   "outputs": [
    {
     "data": {
      "text/plain": [
       "True"
      ]
     },
     "execution_count": 14,
     "metadata": {},
     "output_type": "execute_result"
    }
   ],
   "source": [
    "a, b, c = 10, 10, 3\n",
    "a >= c"
   ]
  },
  {
   "cell_type": "code",
   "execution_count": 15,
   "id": "dfecd8bf",
   "metadata": {},
   "outputs": [
    {
     "data": {
      "text/plain": [
       "True"
      ]
     },
     "execution_count": 15,
     "metadata": {},
     "output_type": "execute_result"
    }
   ],
   "source": [
    "string = \"abcdef\"\n",
    "\"c\" in string"
   ]
  },
  {
   "cell_type": "code",
   "execution_count": 17,
   "id": "6819f4d0",
   "metadata": {},
   "outputs": [
    {
     "name": "stdout",
     "output_type": "stream",
     "text": [
      "4\n"
     ]
    }
   ],
   "source": [
    "array = [1, 2, 3, 4, 5]\n",
    "print(array[3])"
   ]
  },
  {
   "cell_type": "code",
   "execution_count": 21,
   "id": "0a35cb4f",
   "metadata": {},
   "outputs": [
    {
     "name": "stdout",
     "output_type": "stream",
     "text": [
      "['s', 'b', 't', 'g', 'y']\n"
     ]
    },
    {
     "data": {
      "text/plain": [
       "True"
      ]
     },
     "execution_count": 21,
     "metadata": {},
     "output_type": "execute_result"
    }
   ],
   "source": [
    "lista  = [\"s\", \"b\"]\n",
    "listb = [ \"t\", \"g\", \"y\"]\n",
    "print (lista + listb)\n",
    "\"t\" in listb"
   ]
  },
  {
   "cell_type": "code",
   "execution_count": null,
   "id": "d3252d84",
   "metadata": {},
   "outputs": [],
   "source": []
  }
 ],
 "metadata": {
  "kernelspec": {
   "display_name": "Python 3",
   "language": "python",
   "name": "python3"
  },
  "language_info": {
   "codemirror_mode": {
    "name": "ipython",
    "version": 3
   },
   "file_extension": ".py",
   "mimetype": "text/x-python",
   "name": "python",
   "nbconvert_exporter": "python",
   "pygments_lexer": "ipython3",
   "version": "3.8.8"
  }
 },
 "nbformat": 4,
 "nbformat_minor": 5
}
