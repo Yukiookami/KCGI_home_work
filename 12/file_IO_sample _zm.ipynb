{
 "cells": [
  {
   "cell_type": "markdown",
   "metadata": {},
   "source": [
    "書き込み"
   ]
  },
  {
   "cell_type": "code",
   "execution_count": 1,
   "metadata": {},
   "outputs": [],
   "source": [
    "# テキストデータの作成\n",
    "text_data1 = '''\n",
    "京都情報大学院大学に通学しています。\n",
    "京都市に住んでいません、　\n",
    "大阪市に住んでいます。'''\n",
    "#　新規／上書きの書込み先ファイルのopen\n",
    "write_obj1 = open('textfile.txt', 'wt', encoding='utf_8')\n",
    "\n",
    "\n",
    "#　テキストデータの書込み\n",
    "write_obj1.write(text_data1)\n",
    "\n",
    "#　ファイルのclose\n",
    "write_obj1.close()"
   ]
  },
  {
   "cell_type": "code",
   "execution_count": 2,
   "metadata": {},
   "outputs": [],
   "source": [
    "# 追記データの作成\n",
    "text_data2 = '\\n以前は東京に住んでいました。'\n",
    "\n",
    "#　追記先ファイルのopen\n",
    "write_obj2 = open('textfile.txt', 'a', encoding='utf_8')\n",
    "\n",
    "\n",
    "#　追記データの書込み\n",
    "write_obj2.write(text_data2)\n",
    "\n",
    "#　ファイルのclose\n",
    "write_obj2.close()"
   ]
  },
  {
   "cell_type": "code",
   "execution_count": 5,
   "metadata": {},
   "outputs": [],
   "source": [
    "# withメソッドによる追記\n",
    "text_data3 = '\\n以前は札幌に住んでいました。'\n",
    "text_data4 = '\\n以前は福岡に住んでいました。'\n",
    "\n",
    "\n"
   ]
  },
  {
   "cell_type": "markdown",
   "metadata": {},
   "source": [
    "読み込み"
   ]
  },
  {
   "cell_type": "code",
   "execution_count": 3,
   "metadata": {
    "scrolled": true
   },
   "outputs": [
    {
     "name": "stdout",
     "output_type": "stream",
     "text": [
      "\n",
      "京都情報大学院大学に通学しています。\n",
      "京都市に住んでいません、　\n",
      "大阪市に住んでいます。\n",
      "以前は東京に住んでいました。\n"
     ]
    }
   ],
   "source": [
    "#　読み込み先ファイルのopen\n",
    "read_obj1 = open('textfile.txt', 'rt', encoding='utf_8')\n",
    "#　テキストデータの読み込み\n",
    "read_text = read_obj1.read()\n",
    "print(read_text)\n",
    "\n",
    "#　ファイルのclose\n",
    "read_obj1.close()\n",
    "\n"
   ]
  },
  {
   "cell_type": "code",
   "execution_count": 6,
   "metadata": {},
   "outputs": [
    {
     "name": "stdout",
     "output_type": "stream",
     "text": [
      "['', '京都情報大学院大学に通学しています。', '京都市に住んでいません、\\u3000', '大阪市に住んでいます。', '以前は東京に住んでいました。']\n"
     ]
    }
   ],
   "source": [
    "# withメソッドによる読み込み\n",
    "with open('textfile.txt', 'rt', encoding='utf_8') as read_obj2 :\n",
    "    read_text = read_obj2.read()\n",
    "    #print(read_text)\n",
    "#  改行によるテキストデータの分割(split)\n",
    "    read_list = read_text.split(\"\\n\")\n",
    "    print(read_list)\n"
   ]
  },
  {
   "cell_type": "code",
   "execution_count": 8,
   "metadata": {},
   "outputs": [
    {
     "name": "stdout",
     "output_type": "stream",
     "text": [
      "\n",
      "\n",
      "京都情報大学院大学に通学しています。\n",
      "\n",
      "京都市に住んでいません、　\n",
      "\n",
      "大阪市に住んでいます。\n",
      "\n",
      "以前は東京に住んでいました。\n"
     ]
    },
    {
     "data": {
      "text/plain": [
       "[]"
      ]
     },
     "execution_count": 8,
     "metadata": {},
     "output_type": "execute_result"
    }
   ],
   "source": [
    "# readlineメソッドで1行づつ読み込む\n",
    "with open('textfile.txt', 'rt', encoding='utf_8') as read_obj2 :\n",
    "    while True:\n",
    "        read_line = read_obj2.readline()\n",
    "        if read_line:\n",
    "            print(read_line)\n",
    "        else:\n",
    "            break\n",
    "\n",
    "[]"
   ]
  },
  {
   "cell_type": "code",
   "execution_count": 10,
   "metadata": {
    "scrolled": true
   },
   "outputs": [
    {
     "name": "stdout",
     "output_type": "stream",
     "text": [
      "\n",
      "\n",
      "京都情報大学院大学に通学しています。\n",
      "\n",
      "京都市に住んでいません、　\n",
      "\n",
      "大阪市に住んでいます。\n",
      "\n",
      "以前は東京に住んでいました。\n"
     ]
    }
   ],
   "source": [
    "# for文で1行づつ読み込む\n",
    "with open('textfile.txt', 'rt', encoding='utf_8') as read_obj2 :\n",
    "    for line in read_obj2:\n",
    "        print(line)\n",
    "\n",
    "\n"
   ]
  },
  {
   "cell_type": "code",
   "execution_count": 11,
   "metadata": {},
   "outputs": [],
   "source": [
    "# textファイルの単純コピー\n",
    "with open(\"textfile.txt\",\"r\", encoding=\"utf-8\") as file_in:\n",
    "    with open(\"to.txt\",\"w\", encoding=\"utf-8\") as file_out:\n",
    "         file_out.write(file_in.read())\n"
   ]
  },
  {
   "cell_type": "code",
   "execution_count": 14,
   "metadata": {},
   "outputs": [],
   "source": [
    "# 別フォルダのtextファイルに単純コピーしたい場合、パス名を使う\n",
    "with open(\"textfile.txt\",\"r\", encoding=\"utf-8\") as file_in:\n",
    "    with open(\"./folder11/to.txt\",\"w\", encoding=\"utf-8\") as file_out:\n",
    "        file_out.write(file_in.read())\n"
   ]
  },
  {
   "cell_type": "markdown",
   "metadata": {},
   "source": [
    "CSVファイルのIO"
   ]
  },
  {
   "cell_type": "code",
   "execution_count": 18,
   "metadata": {},
   "outputs": [
    {
     "name": "stdout",
     "output_type": "stream",
     "text": [
      "['name', 'year', 'nationality']\n",
      "['安', '2021', '韓国']\n",
      "['山田', '2020', '日本']\n",
      "['周', '2019', '中国']\n",
      "<_csv.reader object at 0x0000027F943CDD00>\n"
     ]
    }
   ],
   "source": [
    "# CSVファイルのread1\n",
    "import csv\n",
    "with open(\"sample.csv\",\"r\", encoding=\"utf-8\") as file_in:\n",
    "    sample_data = csv.reader(file_in)\n",
    "    for row in sample_data:\n",
    "        print(row)\n",
    "        #print(row[0])\n",
    "print(sample_data)\n",
    "\n",
    "    \n",
    "        "
   ]
  },
  {
   "cell_type": "code",
   "execution_count": 19,
   "metadata": {},
   "outputs": [
    {
     "name": "stdout",
     "output_type": "stream",
     "text": [
      "安 韓国 2021\n",
      "山田 日本 2020\n",
      "周 中国 2019\n"
     ]
    }
   ],
   "source": [
    "# CSVファイルのread2\n",
    "import csv\n",
    "with open(\"sample.csv\",\"r\", encoding=\"utf-8\") as fin:\n",
    "    sample_data = csv.DictReader(fin)\n",
    "    for row in sample_data:\n",
    "        print(row[\"name\"],row[\"nationality\"],row[\"year\"])"
   ]
  },
  {
   "cell_type": "code",
   "execution_count": 2,
   "metadata": {},
   "outputs": [],
   "source": [
    "# CSVファイルのwrite\n",
    "sample_list=[\n",
    "    ['周', '2019', '中国'],\n",
    "    ['山田', '2020', '日本'],\n",
    "    ['安', '2021', '韓国']\n",
    "]\n",
    "import csv\n",
    "with open(\"sample1.csv\",\"w\", encoding=\"utf-8\", newline=\"\") as file_out:\n",
    "    csv_out = csv.writer(file_out)\n",
    "    csv_out.writerows(sample_list)"
   ]
  },
  {
   "cell_type": "code",
   "execution_count": null,
   "metadata": {},
   "outputs": [],
   "source": []
  }
 ],
 "metadata": {
  "kernelspec": {
   "display_name": "Python 3",
   "language": "python",
   "name": "python3"
  },
  "language_info": {
   "codemirror_mode": {
    "name": "ipython",
    "version": 3
   },
   "file_extension": ".py",
   "mimetype": "text/x-python",
   "name": "python",
   "nbconvert_exporter": "python",
   "pygments_lexer": "ipython3",
   "version": "3.8.8"
  }
 },
 "nbformat": 4,
 "nbformat_minor": 4
}
