{
 "cells": [
  {
   "cell_type": "code",
   "execution_count": 1,
   "id": "f1a12292",
   "metadata": {},
   "outputs": [],
   "source": [
    "# 課題１"
   ]
  },
  {
   "cell_type": "code",
   "execution_count": 3,
   "id": "1d7137ee",
   "metadata": {},
   "outputs": [
    {
     "name": "stdout",
     "output_type": "stream",
     "text": [
      "['金', '李', '高', '安']\n"
     ]
    }
   ],
   "source": [
    "def korean_name1 ():\n",
    "    print(['金', '李', '高', '安'])\n",
    "    \n",
    "korean_name1()"
   ]
  },
  {
   "cell_type": "code",
   "execution_count": 4,
   "id": "9c7ad285",
   "metadata": {},
   "outputs": [
    {
     "name": "stdout",
     "output_type": "stream",
     "text": [
      "['金', '李', '高', '安']\n"
     ]
    }
   ],
   "source": [
    "def korean_name2 ():\n",
    "    return ['金', '李', '高', '安']\n",
    "     \n",
    "print(korean_name2())"
   ]
  },
  {
   "cell_type": "code",
   "execution_count": 5,
   "id": "c1c03a3f",
   "metadata": {},
   "outputs": [],
   "source": [
    "# 課題２"
   ]
  },
  {
   "cell_type": "code",
   "execution_count": 9,
   "id": "6e3d5468",
   "metadata": {},
   "outputs": [
    {
     "name": "stdout",
     "output_type": "stream",
     "text": [
      "['金', '李', '高', '安']\n"
     ]
    }
   ],
   "source": [
    "def list_name (*args):\n",
    "    listVal = [x for x in args] \n",
    "    print(listVal)\n",
    "\n",
    "list_name('金', '李', '高', '安')"
   ]
  },
  {
   "cell_type": "code",
   "execution_count": 10,
   "id": "e44d51bb",
   "metadata": {},
   "outputs": [
    {
     "name": "stdout",
     "output_type": "stream",
     "text": [
      "['wo', '2', '2', 'ne', '?']\n"
     ]
    }
   ],
   "source": [
    "list_name('wo', '2', '2', 'ne', '?')"
   ]
  },
  {
   "cell_type": "code",
   "execution_count": 11,
   "id": "4ab44fe5",
   "metadata": {},
   "outputs": [],
   "source": [
    " # 課題３"
   ]
  },
  {
   "cell_type": "code",
   "execution_count": 21,
   "id": "2f1aad0a",
   "metadata": {},
   "outputs": [
    {
     "name": "stdout",
     "output_type": "stream",
     "text": [
      "(13, 9)\n"
     ]
    }
   ],
   "source": [
    "def how_many_days (time):\n",
    "    '''時間を入力して、戻り値は日と時間のタプルです。 '''\n",
    "    timeT = (time // 24, time % 24)\n",
    "    print(timeT)\n",
    "how_many_days (321)"
   ]
  },
  {
   "cell_type": "code",
   "execution_count": 22,
   "id": "4e249f1d",
   "metadata": {},
   "outputs": [
    {
     "name": "stdout",
     "output_type": "stream",
     "text": [
      "Help on function how_many_days in module __main__:\n",
      "\n",
      "how_many_days(time)\n",
      "    時間を入力して、戻り値は日と時間のタプルです。\n",
      "\n",
      "None\n"
     ]
    }
   ],
   "source": [
    "print(help(how_many_days))"
   ]
  },
  {
   "cell_type": "code",
   "execution_count": 23,
   "id": "462349d4",
   "metadata": {},
   "outputs": [],
   "source": [
    "# 課題４"
   ]
  },
  {
   "cell_type": "code",
   "execution_count": 24,
   "id": "847d48ee",
   "metadata": {},
   "outputs": [
    {
     "name": "stdout",
     "output_type": "stream",
     "text": [
      "(13, 9)\n"
     ]
    }
   ],
   "source": [
    "how_many_days = lambda time:  print((time // 24, time % 24))\n",
    "how_many_days(321)"
   ]
  },
  {
   "cell_type": "code",
   "execution_count": null,
   "id": "4c3df170",
   "metadata": {},
   "outputs": [],
   "source": []
  }
 ],
 "metadata": {
  "kernelspec": {
   "display_name": "Python 3",
   "language": "python",
   "name": "python3"
  },
  "language_info": {
   "codemirror_mode": {
    "name": "ipython",
    "version": 3
   },
   "file_extension": ".py",
   "mimetype": "text/x-python",
   "name": "python",
   "nbconvert_exporter": "python",
   "pygments_lexer": "ipython3",
   "version": "3.8.8"
  }
 },
 "nbformat": 4,
 "nbformat_minor": 5
}
