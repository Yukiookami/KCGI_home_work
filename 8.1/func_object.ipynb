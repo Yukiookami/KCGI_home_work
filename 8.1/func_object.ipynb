{
 "cells": [
  {
   "cell_type": "code",
   "execution_count": 1,
   "metadata": {},
   "outputs": [
    {
     "name": "stdout",
     "output_type": "stream",
     "text": [
      "年齢入力：6\n",
      "人数入力：2\n",
      "6歳、2人は1200円です。\n"
     ]
    }
   ],
   "source": [
    "# 関数を呼び出す関数 ２\n",
    "def calc(func, arg) :\n",
    "    price = func(arg) # 渡された関数名と引数で関数を実行\n",
    "    return price\n",
    "    \n",
    "def child(num) :      # 子供料金を計算する関数\n",
    "    return 600 * num \n",
    "    \n",
    "def adult(num) :      # 大人料金を計算する関数\n",
    "    print(\"身分証明書を提示してください\")\n",
    "    return 1200 * num\n",
    "\n",
    "# 年齢によって料金計算の関数を変える\n",
    "age = int(input('年齢入力：'))\n",
    "number = int(input('人数入力：'))\n",
    "if age<16 :\n",
    "    price = calc(child, number)\n",
    "else :\n",
    "    price = calc(adult, number)  \n",
    "print(f\"{age}歳、{number}人は{price}円です。\")"
   ]
  },
  {
   "cell_type": "code",
   "execution_count": 20,
   "metadata": {},
   "outputs": [
    {
     "data": {
      "text/plain": [
       "60"
      ]
     },
     "execution_count": 20,
     "metadata": {},
     "output_type": "execute_result"
    }
   ],
   "source": [
    "# 関数の中で関数を定義\n",
    "def outer(a,b) :\n",
    "    def inner(x,y) :   # 中の関数の定義\n",
    "        return x * y  #  引数の掛け算\n",
    "    return inner(a,b) # 中の関数を戻り値で返す\n",
    "\n",
    "outer(10,6)    # 外の関数を呼ぶ"
   ]
  },
  {
   "cell_type": "code",
   "execution_count": 36,
   "metadata": {},
   "outputs": [
    {
     "name": "stdout",
     "output_type": "stream",
     "text": [
      "大人の人数入力：2\n",
      "大人 2 人は 2400 円\n",
      "子供の人数入力：4\n",
      "子供 4 人は 2400 円\n"
     ]
    }
   ],
   "source": [
    "# クロージャの定義\n",
    "def charge(price) :\n",
    "    # 関数内関数\n",
    "    def calc(num) :\n",
    "        return price * num # 料金と個数の掛け算\n",
    "    return calc\n",
    "\n",
    "# クロージャ（関数オブジェクト）を2種類作る \n",
    "child = charge(600)    # 子供料金600円\n",
    "adult = charge(1200)   # 大人料金1200円\n",
    "\n",
    "# 料金を計算 ⇒　クロージャ呼び出し\n",
    "a_number = int(input('大人の人数入力：'))\n",
    "print(\"大人\",a_number,\"人は\",adult(a_number),\"円\")\n",
    "\n",
    "c_number = int(input('子供の人数入力：'))\n",
    "print(\"子供\",c_number,\"人は\",child(c_number),\"円\")"
   ]
  }
 ],
 "metadata": {
  "kernelspec": {
   "display_name": "Python 3",
   "language": "python",
   "name": "python3"
  },
  "language_info": {
   "codemirror_mode": {
    "name": "ipython",
    "version": 3
   },
   "file_extension": ".py",
   "mimetype": "text/x-python",
   "name": "python",
   "nbconvert_exporter": "python",
   "pygments_lexer": "ipython3",
   "version": "3.8.5"
  }
 },
 "nbformat": 4,
 "nbformat_minor": 4
}
